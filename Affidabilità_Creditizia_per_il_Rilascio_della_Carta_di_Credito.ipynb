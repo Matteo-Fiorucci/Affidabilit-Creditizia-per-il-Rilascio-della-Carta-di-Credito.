{
  "nbformat": 4,
  "nbformat_minor": 0,
  "metadata": {
    "colab": {
      "provenance": []
    },
    "kernelspec": {
      "name": "python3",
      "display_name": "Python 3"
    },
    "language_info": {
      "name": "python"
    }
  },
  "cells": [
    {
      "cell_type": "markdown",
      "source": [
        "# *Import Libraries*"
      ],
      "metadata": {
        "id": "csgc7tO14sfn"
      }
    },
    {
      "cell_type": "code",
      "execution_count": 6,
      "metadata": {
        "id": "vjzws0Dli-wv"
      },
      "outputs": [],
      "source": [
        "import pandas as pd\n",
        "import numpy as np\n",
        "import seaborn as sns\n",
        "import matplotlib.pyplot as plt\n",
        "from sklearn.preprocessing import LabelEncoder\n",
        "from sklearn.model_selection import train_test_split\n",
        "from sklearn.preprocessing import StandardScaler\n",
        "from sklearn.linear_model import LogisticRegression\n",
        "from sklearn.metrics import classification_report, confusion_matrix,roc_auc_score,auc,roc_curve, accuracy_score\n",
        "from imblearn.over_sampling import SMOTE\n",
        "from sklearn.ensemble import RandomForestClassifier\n",
        "\n",
        "import warnings\n",
        "warnings.simplefilter(action='ignore', category=FutureWarning)"
      ]
    },
    {
      "cell_type": "markdown",
      "source": [
        "# *Import Dataset*"
      ],
      "metadata": {
        "id": "mORphldp5JEg"
      }
    },
    {
      "cell_type": "code",
      "source": [
        "!gdown --id 1x82hb4NkN5lBLAYvyBSBNUNJmJklN_1V\n",
        "\n",
        "df = pd.read_csv(\"credit_scoring.csv\")\n",
        "df.head()"
      ],
      "metadata": {
        "colab": {
          "base_uri": "https://localhost:8080/",
          "height": 382
        },
        "id": "-71yLxRIjcv1",
        "outputId": "daccca15-3d38-4234-8f46-b881f991fe16"
      },
      "execution_count": 2,
      "outputs": [
        {
          "output_type": "stream",
          "name": "stdout",
          "text": [
            "/usr/local/lib/python3.11/dist-packages/gdown/__main__.py:140: FutureWarning: Option `--id` was deprecated in version 4.3.1 and will be removed in 5.0. You don't need to pass it anymore to use a file ID.\n",
            "  warnings.warn(\n",
            "Downloading...\n",
            "From: https://drive.google.com/uc?id=1x82hb4NkN5lBLAYvyBSBNUNJmJklN_1V\n",
            "To: /content/credit_scoring.csv\n",
            "100% 46.7M/46.7M [00:00<00:00, 131MB/s]\n"
          ]
        },
        {
          "output_type": "execute_result",
          "data": {
            "text/plain": [
              "        ID CODE_GENDER FLAG_OWN_CAR FLAG_OWN_REALTY  CNT_CHILDREN  \\\n",
              "0  5008804           M            Y               Y             0   \n",
              "1  5008805           M            Y               Y             0   \n",
              "2  5008806           M            Y               Y             0   \n",
              "3  5008808           F            N               Y             0   \n",
              "4  5008809           F            N               Y             0   \n",
              "\n",
              "   AMT_INCOME_TOTAL      NAME_INCOME_TYPE            NAME_EDUCATION_TYPE  \\\n",
              "0          427500.0               Working               Higher education   \n",
              "1          427500.0               Working               Higher education   \n",
              "2          112500.0               Working  Secondary / secondary special   \n",
              "3          270000.0  Commercial associate  Secondary / secondary special   \n",
              "4          270000.0  Commercial associate  Secondary / secondary special   \n",
              "\n",
              "     NAME_FAMILY_STATUS  NAME_HOUSING_TYPE  DAYS_BIRTH  DAYS_EMPLOYED  \\\n",
              "0        Civil marriage   Rented apartment    -12005.0        -4542.0   \n",
              "1        Civil marriage   Rented apartment    -12005.0        -4542.0   \n",
              "2               Married  House / apartment    -21474.0        -1134.0   \n",
              "3  Single / not married  House / apartment    -19110.0        -3051.0   \n",
              "4  Single / not married  House / apartment    -19110.0        -3051.0   \n",
              "\n",
              "   FLAG_MOBIL  FLAG_WORK_PHONE  FLAG_PHONE  FLAG_EMAIL OCCUPATION_TYPE  \\\n",
              "0         1.0              1.0         0.0         0.0             NaN   \n",
              "1         1.0              1.0         0.0         0.0             NaN   \n",
              "2         1.0              0.0         0.0         0.0  Security staff   \n",
              "3         1.0              0.0         1.0         1.0     Sales staff   \n",
              "4         1.0              0.0         1.0         1.0     Sales staff   \n",
              "\n",
              "   CNT_FAM_MEMBERS  TARGET  \n",
              "0              2.0       0  \n",
              "1              2.0       0  \n",
              "2              2.0       0  \n",
              "3              1.0       1  \n",
              "4              1.0       1  "
            ],
            "text/html": [
              "\n",
              "  <div id=\"df-f7559460-f9aa-4b40-8392-6baaa82b83f7\" class=\"colab-df-container\">\n",
              "    <div>\n",
              "<style scoped>\n",
              "    .dataframe tbody tr th:only-of-type {\n",
              "        vertical-align: middle;\n",
              "    }\n",
              "\n",
              "    .dataframe tbody tr th {\n",
              "        vertical-align: top;\n",
              "    }\n",
              "\n",
              "    .dataframe thead th {\n",
              "        text-align: right;\n",
              "    }\n",
              "</style>\n",
              "<table border=\"1\" class=\"dataframe\">\n",
              "  <thead>\n",
              "    <tr style=\"text-align: right;\">\n",
              "      <th></th>\n",
              "      <th>ID</th>\n",
              "      <th>CODE_GENDER</th>\n",
              "      <th>FLAG_OWN_CAR</th>\n",
              "      <th>FLAG_OWN_REALTY</th>\n",
              "      <th>CNT_CHILDREN</th>\n",
              "      <th>AMT_INCOME_TOTAL</th>\n",
              "      <th>NAME_INCOME_TYPE</th>\n",
              "      <th>NAME_EDUCATION_TYPE</th>\n",
              "      <th>NAME_FAMILY_STATUS</th>\n",
              "      <th>NAME_HOUSING_TYPE</th>\n",
              "      <th>DAYS_BIRTH</th>\n",
              "      <th>DAYS_EMPLOYED</th>\n",
              "      <th>FLAG_MOBIL</th>\n",
              "      <th>FLAG_WORK_PHONE</th>\n",
              "      <th>FLAG_PHONE</th>\n",
              "      <th>FLAG_EMAIL</th>\n",
              "      <th>OCCUPATION_TYPE</th>\n",
              "      <th>CNT_FAM_MEMBERS</th>\n",
              "      <th>TARGET</th>\n",
              "    </tr>\n",
              "  </thead>\n",
              "  <tbody>\n",
              "    <tr>\n",
              "      <th>0</th>\n",
              "      <td>5008804</td>\n",
              "      <td>M</td>\n",
              "      <td>Y</td>\n",
              "      <td>Y</td>\n",
              "      <td>0</td>\n",
              "      <td>427500.0</td>\n",
              "      <td>Working</td>\n",
              "      <td>Higher education</td>\n",
              "      <td>Civil marriage</td>\n",
              "      <td>Rented apartment</td>\n",
              "      <td>-12005.0</td>\n",
              "      <td>-4542.0</td>\n",
              "      <td>1.0</td>\n",
              "      <td>1.0</td>\n",
              "      <td>0.0</td>\n",
              "      <td>0.0</td>\n",
              "      <td>NaN</td>\n",
              "      <td>2.0</td>\n",
              "      <td>0</td>\n",
              "    </tr>\n",
              "    <tr>\n",
              "      <th>1</th>\n",
              "      <td>5008805</td>\n",
              "      <td>M</td>\n",
              "      <td>Y</td>\n",
              "      <td>Y</td>\n",
              "      <td>0</td>\n",
              "      <td>427500.0</td>\n",
              "      <td>Working</td>\n",
              "      <td>Higher education</td>\n",
              "      <td>Civil marriage</td>\n",
              "      <td>Rented apartment</td>\n",
              "      <td>-12005.0</td>\n",
              "      <td>-4542.0</td>\n",
              "      <td>1.0</td>\n",
              "      <td>1.0</td>\n",
              "      <td>0.0</td>\n",
              "      <td>0.0</td>\n",
              "      <td>NaN</td>\n",
              "      <td>2.0</td>\n",
              "      <td>0</td>\n",
              "    </tr>\n",
              "    <tr>\n",
              "      <th>2</th>\n",
              "      <td>5008806</td>\n",
              "      <td>M</td>\n",
              "      <td>Y</td>\n",
              "      <td>Y</td>\n",
              "      <td>0</td>\n",
              "      <td>112500.0</td>\n",
              "      <td>Working</td>\n",
              "      <td>Secondary / secondary special</td>\n",
              "      <td>Married</td>\n",
              "      <td>House / apartment</td>\n",
              "      <td>-21474.0</td>\n",
              "      <td>-1134.0</td>\n",
              "      <td>1.0</td>\n",
              "      <td>0.0</td>\n",
              "      <td>0.0</td>\n",
              "      <td>0.0</td>\n",
              "      <td>Security staff</td>\n",
              "      <td>2.0</td>\n",
              "      <td>0</td>\n",
              "    </tr>\n",
              "    <tr>\n",
              "      <th>3</th>\n",
              "      <td>5008808</td>\n",
              "      <td>F</td>\n",
              "      <td>N</td>\n",
              "      <td>Y</td>\n",
              "      <td>0</td>\n",
              "      <td>270000.0</td>\n",
              "      <td>Commercial associate</td>\n",
              "      <td>Secondary / secondary special</td>\n",
              "      <td>Single / not married</td>\n",
              "      <td>House / apartment</td>\n",
              "      <td>-19110.0</td>\n",
              "      <td>-3051.0</td>\n",
              "      <td>1.0</td>\n",
              "      <td>0.0</td>\n",
              "      <td>1.0</td>\n",
              "      <td>1.0</td>\n",
              "      <td>Sales staff</td>\n",
              "      <td>1.0</td>\n",
              "      <td>1</td>\n",
              "    </tr>\n",
              "    <tr>\n",
              "      <th>4</th>\n",
              "      <td>5008809</td>\n",
              "      <td>F</td>\n",
              "      <td>N</td>\n",
              "      <td>Y</td>\n",
              "      <td>0</td>\n",
              "      <td>270000.0</td>\n",
              "      <td>Commercial associate</td>\n",
              "      <td>Secondary / secondary special</td>\n",
              "      <td>Single / not married</td>\n",
              "      <td>House / apartment</td>\n",
              "      <td>-19110.0</td>\n",
              "      <td>-3051.0</td>\n",
              "      <td>1.0</td>\n",
              "      <td>0.0</td>\n",
              "      <td>1.0</td>\n",
              "      <td>1.0</td>\n",
              "      <td>Sales staff</td>\n",
              "      <td>1.0</td>\n",
              "      <td>1</td>\n",
              "    </tr>\n",
              "  </tbody>\n",
              "</table>\n",
              "</div>\n",
              "    <div class=\"colab-df-buttons\">\n",
              "\n",
              "  <div class=\"colab-df-container\">\n",
              "    <button class=\"colab-df-convert\" onclick=\"convertToInteractive('df-f7559460-f9aa-4b40-8392-6baaa82b83f7')\"\n",
              "            title=\"Convert this dataframe to an interactive table.\"\n",
              "            style=\"display:none;\">\n",
              "\n",
              "  <svg xmlns=\"http://www.w3.org/2000/svg\" height=\"24px\" viewBox=\"0 -960 960 960\">\n",
              "    <path d=\"M120-120v-720h720v720H120Zm60-500h600v-160H180v160Zm220 220h160v-160H400v160Zm0 220h160v-160H400v160ZM180-400h160v-160H180v160Zm440 0h160v-160H620v160ZM180-180h160v-160H180v160Zm440 0h160v-160H620v160Z\"/>\n",
              "  </svg>\n",
              "    </button>\n",
              "\n",
              "  <style>\n",
              "    .colab-df-container {\n",
              "      display:flex;\n",
              "      gap: 12px;\n",
              "    }\n",
              "\n",
              "    .colab-df-convert {\n",
              "      background-color: #E8F0FE;\n",
              "      border: none;\n",
              "      border-radius: 50%;\n",
              "      cursor: pointer;\n",
              "      display: none;\n",
              "      fill: #1967D2;\n",
              "      height: 32px;\n",
              "      padding: 0 0 0 0;\n",
              "      width: 32px;\n",
              "    }\n",
              "\n",
              "    .colab-df-convert:hover {\n",
              "      background-color: #E2EBFA;\n",
              "      box-shadow: 0px 1px 2px rgba(60, 64, 67, 0.3), 0px 1px 3px 1px rgba(60, 64, 67, 0.15);\n",
              "      fill: #174EA6;\n",
              "    }\n",
              "\n",
              "    .colab-df-buttons div {\n",
              "      margin-bottom: 4px;\n",
              "    }\n",
              "\n",
              "    [theme=dark] .colab-df-convert {\n",
              "      background-color: #3B4455;\n",
              "      fill: #D2E3FC;\n",
              "    }\n",
              "\n",
              "    [theme=dark] .colab-df-convert:hover {\n",
              "      background-color: #434B5C;\n",
              "      box-shadow: 0px 1px 3px 1px rgba(0, 0, 0, 0.15);\n",
              "      filter: drop-shadow(0px 1px 2px rgba(0, 0, 0, 0.3));\n",
              "      fill: #FFFFFF;\n",
              "    }\n",
              "  </style>\n",
              "\n",
              "    <script>\n",
              "      const buttonEl =\n",
              "        document.querySelector('#df-f7559460-f9aa-4b40-8392-6baaa82b83f7 button.colab-df-convert');\n",
              "      buttonEl.style.display =\n",
              "        google.colab.kernel.accessAllowed ? 'block' : 'none';\n",
              "\n",
              "      async function convertToInteractive(key) {\n",
              "        const element = document.querySelector('#df-f7559460-f9aa-4b40-8392-6baaa82b83f7');\n",
              "        const dataTable =\n",
              "          await google.colab.kernel.invokeFunction('convertToInteractive',\n",
              "                                                    [key], {});\n",
              "        if (!dataTable) return;\n",
              "\n",
              "        const docLinkHtml = 'Like what you see? Visit the ' +\n",
              "          '<a target=\"_blank\" href=https://colab.research.google.com/notebooks/data_table.ipynb>data table notebook</a>'\n",
              "          + ' to learn more about interactive tables.';\n",
              "        element.innerHTML = '';\n",
              "        dataTable['output_type'] = 'display_data';\n",
              "        await google.colab.output.renderOutput(dataTable, element);\n",
              "        const docLink = document.createElement('div');\n",
              "        docLink.innerHTML = docLinkHtml;\n",
              "        element.appendChild(docLink);\n",
              "      }\n",
              "    </script>\n",
              "  </div>\n",
              "\n",
              "\n",
              "<div id=\"df-2b877bea-fb48-4b81-a34b-59eafe6e5164\">\n",
              "  <button class=\"colab-df-quickchart\" onclick=\"quickchart('df-2b877bea-fb48-4b81-a34b-59eafe6e5164')\"\n",
              "            title=\"Suggest charts\"\n",
              "            style=\"display:none;\">\n",
              "\n",
              "<svg xmlns=\"http://www.w3.org/2000/svg\" height=\"24px\"viewBox=\"0 0 24 24\"\n",
              "     width=\"24px\">\n",
              "    <g>\n",
              "        <path d=\"M19 3H5c-1.1 0-2 .9-2 2v14c0 1.1.9 2 2 2h14c1.1 0 2-.9 2-2V5c0-1.1-.9-2-2-2zM9 17H7v-7h2v7zm4 0h-2V7h2v10zm4 0h-2v-4h2v4z\"/>\n",
              "    </g>\n",
              "</svg>\n",
              "  </button>\n",
              "\n",
              "<style>\n",
              "  .colab-df-quickchart {\n",
              "      --bg-color: #E8F0FE;\n",
              "      --fill-color: #1967D2;\n",
              "      --hover-bg-color: #E2EBFA;\n",
              "      --hover-fill-color: #174EA6;\n",
              "      --disabled-fill-color: #AAA;\n",
              "      --disabled-bg-color: #DDD;\n",
              "  }\n",
              "\n",
              "  [theme=dark] .colab-df-quickchart {\n",
              "      --bg-color: #3B4455;\n",
              "      --fill-color: #D2E3FC;\n",
              "      --hover-bg-color: #434B5C;\n",
              "      --hover-fill-color: #FFFFFF;\n",
              "      --disabled-bg-color: #3B4455;\n",
              "      --disabled-fill-color: #666;\n",
              "  }\n",
              "\n",
              "  .colab-df-quickchart {\n",
              "    background-color: var(--bg-color);\n",
              "    border: none;\n",
              "    border-radius: 50%;\n",
              "    cursor: pointer;\n",
              "    display: none;\n",
              "    fill: var(--fill-color);\n",
              "    height: 32px;\n",
              "    padding: 0;\n",
              "    width: 32px;\n",
              "  }\n",
              "\n",
              "  .colab-df-quickchart:hover {\n",
              "    background-color: var(--hover-bg-color);\n",
              "    box-shadow: 0 1px 2px rgba(60, 64, 67, 0.3), 0 1px 3px 1px rgba(60, 64, 67, 0.15);\n",
              "    fill: var(--button-hover-fill-color);\n",
              "  }\n",
              "\n",
              "  .colab-df-quickchart-complete:disabled,\n",
              "  .colab-df-quickchart-complete:disabled:hover {\n",
              "    background-color: var(--disabled-bg-color);\n",
              "    fill: var(--disabled-fill-color);\n",
              "    box-shadow: none;\n",
              "  }\n",
              "\n",
              "  .colab-df-spinner {\n",
              "    border: 2px solid var(--fill-color);\n",
              "    border-color: transparent;\n",
              "    border-bottom-color: var(--fill-color);\n",
              "    animation:\n",
              "      spin 1s steps(1) infinite;\n",
              "  }\n",
              "\n",
              "  @keyframes spin {\n",
              "    0% {\n",
              "      border-color: transparent;\n",
              "      border-bottom-color: var(--fill-color);\n",
              "      border-left-color: var(--fill-color);\n",
              "    }\n",
              "    20% {\n",
              "      border-color: transparent;\n",
              "      border-left-color: var(--fill-color);\n",
              "      border-top-color: var(--fill-color);\n",
              "    }\n",
              "    30% {\n",
              "      border-color: transparent;\n",
              "      border-left-color: var(--fill-color);\n",
              "      border-top-color: var(--fill-color);\n",
              "      border-right-color: var(--fill-color);\n",
              "    }\n",
              "    40% {\n",
              "      border-color: transparent;\n",
              "      border-right-color: var(--fill-color);\n",
              "      border-top-color: var(--fill-color);\n",
              "    }\n",
              "    60% {\n",
              "      border-color: transparent;\n",
              "      border-right-color: var(--fill-color);\n",
              "    }\n",
              "    80% {\n",
              "      border-color: transparent;\n",
              "      border-right-color: var(--fill-color);\n",
              "      border-bottom-color: var(--fill-color);\n",
              "    }\n",
              "    90% {\n",
              "      border-color: transparent;\n",
              "      border-bottom-color: var(--fill-color);\n",
              "    }\n",
              "  }\n",
              "</style>\n",
              "\n",
              "  <script>\n",
              "    async function quickchart(key) {\n",
              "      const quickchartButtonEl =\n",
              "        document.querySelector('#' + key + ' button');\n",
              "      quickchartButtonEl.disabled = true;  // To prevent multiple clicks.\n",
              "      quickchartButtonEl.classList.add('colab-df-spinner');\n",
              "      try {\n",
              "        const charts = await google.colab.kernel.invokeFunction(\n",
              "            'suggestCharts', [key], {});\n",
              "      } catch (error) {\n",
              "        console.error('Error during call to suggestCharts:', error);\n",
              "      }\n",
              "      quickchartButtonEl.classList.remove('colab-df-spinner');\n",
              "      quickchartButtonEl.classList.add('colab-df-quickchart-complete');\n",
              "    }\n",
              "    (() => {\n",
              "      let quickchartButtonEl =\n",
              "        document.querySelector('#df-2b877bea-fb48-4b81-a34b-59eafe6e5164 button');\n",
              "      quickchartButtonEl.style.display =\n",
              "        google.colab.kernel.accessAllowed ? 'block' : 'none';\n",
              "    })();\n",
              "  </script>\n",
              "</div>\n",
              "\n",
              "    </div>\n",
              "  </div>\n"
            ],
            "application/vnd.google.colaboratory.intrinsic+json": {
              "type": "dataframe",
              "variable_name": "df"
            }
          },
          "metadata": {},
          "execution_count": 2
        }
      ]
    },
    {
      "cell_type": "markdown",
      "source": [
        "# *Check info and missing values*"
      ],
      "metadata": {
        "id": "_ZsxQZ_i5NPW"
      }
    },
    {
      "cell_type": "code",
      "source": [
        "df_info = {\n",
        "    'columns': df.columns.to_list(),\n",
        "    'missing values': df.isna().sum(),\n",
        "    'shape': df.shape,\n",
        "    'duplicated values': df.duplicated().sum()\n",
        "}\n",
        "\n",
        "for key,value in df_info.items():\n",
        "  print(f'{key.capitalize()}')\n",
        "  print(value)\n",
        "  print('\\n' + '*'*50 + '\\n')"
      ],
      "metadata": {
        "colab": {
          "base_uri": "https://localhost:8080/"
        },
        "id": "b7hgv3y7klEE",
        "outputId": "f7521f8c-9a24-47d6-b213-2902aa3dbf27"
      },
      "execution_count": 3,
      "outputs": [
        {
          "output_type": "stream",
          "name": "stdout",
          "text": [
            "Columns\n",
            "['ID', 'CODE_GENDER', 'FLAG_OWN_CAR', 'FLAG_OWN_REALTY', 'CNT_CHILDREN', 'AMT_INCOME_TOTAL', 'NAME_INCOME_TYPE', 'NAME_EDUCATION_TYPE', 'NAME_FAMILY_STATUS', 'NAME_HOUSING_TYPE', 'DAYS_BIRTH', 'DAYS_EMPLOYED', 'FLAG_MOBIL', 'FLAG_WORK_PHONE', 'FLAG_PHONE', 'FLAG_EMAIL', 'OCCUPATION_TYPE', 'CNT_FAM_MEMBERS', 'TARGET']\n",
            "\n",
            "**************************************************\n",
            "\n",
            "Missing values\n",
            "ID                          0\n",
            "CODE_GENDER                 0\n",
            "FLAG_OWN_CAR                0\n",
            "FLAG_OWN_REALTY             0\n",
            "CNT_CHILDREN                0\n",
            "AMT_INCOME_TOTAL            0\n",
            "NAME_INCOME_TYPE            0\n",
            "NAME_EDUCATION_TYPE         0\n",
            "NAME_FAMILY_STATUS          1\n",
            "NAME_HOUSING_TYPE           1\n",
            "DAYS_BIRTH                  1\n",
            "DAYS_EMPLOYED               1\n",
            "FLAG_MOBIL                  1\n",
            "FLAG_WORK_PHONE             1\n",
            "FLAG_PHONE                  1\n",
            "FLAG_EMAIL                  1\n",
            "OCCUPATION_TYPE        103342\n",
            "CNT_FAM_MEMBERS             1\n",
            "TARGET                      0\n",
            "dtype: int64\n",
            "\n",
            "**************************************************\n",
            "\n",
            "Shape\n",
            "(338427, 19)\n",
            "\n",
            "**************************************************\n",
            "\n",
            "Duplicated values\n",
            "0\n",
            "\n",
            "**************************************************\n",
            "\n"
          ]
        }
      ]
    },
    {
      "cell_type": "code",
      "source": [
        "#drop row with > 60% missing values and ID columns\n",
        "df.dropna(subset=[\"NAME_FAMILY_STATUS\"], inplace=True)\n",
        "df.drop([\"ID\"], axis= 1, inplace=True)"
      ],
      "metadata": {
        "id": "AJCLaIDWoj-m"
      },
      "execution_count": 4,
      "outputs": []
    },
    {
      "cell_type": "code",
      "source": [
        "#drop duplicates and fill columns with NaN values\n",
        "df = df.drop_duplicates()\n",
        "df.loc[(df[\"NAME_INCOME_TYPE\"] == \"Pensioner\"),\"OCCUPATION_TYPE\"] = \"Pensioner\"\n",
        "df[\"OCCUPATION_TYPE\"] = df[\"OCCUPATION_TYPE\"].fillna(\"Unknown\")"
      ],
      "metadata": {
        "id": "M_AP3PiyEfm_"
      },
      "execution_count": 7,
      "outputs": []
    },
    {
      "cell_type": "markdown",
      "source": [
        "# *Exploration Data Analysis*"
      ],
      "metadata": {
        "id": "g3TZFtEv5VlE"
      }
    },
    {
      "cell_type": "code",
      "source": [
        "_ = df['TARGET'].value_counts()\n",
        "print(_)"
      ],
      "metadata": {
        "id": "7LM7ujk9v1oY",
        "colab": {
          "base_uri": "https://localhost:8080/"
        },
        "outputId": "950a8236-7607-4130-bacc-836887f3b788"
      },
      "execution_count": null,
      "outputs": [
        {
          "output_type": "stream",
          "name": "stdout",
          "text": [
            "TARGET\n",
            "0    67886\n",
            "1     7370\n",
            "Name: count, dtype: int64\n"
          ]
        }
      ]
    },
    {
      "cell_type": "code",
      "source": [
        "sns.countplot(data=df, x=\"TARGET\", hue =\"TARGET\")\n",
        "plt.title(\"Distribution of the Target variable\", fontsize=14)\n",
        "plt.xlabel(\"Target\")\n",
        "plt.ylabel(\"Frequency\")\n",
        "plt.legend(labels=[\"Not Reliability \", \"Reliability \"], title=\"Reliability Results\")\n",
        "plt.show()"
      ],
      "metadata": {
        "colab": {
          "base_uri": "https://localhost:8080/",
          "height": 473
        },
        "id": "0XRkqZtVNt2_",
        "outputId": "10cfbd92-13a7-4998-b321-ae259c3ede0e"
      },
      "execution_count": null,
      "outputs": [
        {
          "output_type": "display_data",
          "data": {
            "text/plain": [
              "<Figure size 640x480 with 1 Axes>"
            ],
            "image/png": "[encoded data removed]"
          },
          "metadata": {}
        }
      ]
    },
    {
      "cell_type": "markdown",
      "source": [
        "The dataset consists of 67,886 observations belonging to class 0 and 7,370 belonging to class 1.\n",
        "\n",
        "The dataset is ***unbalanced.***"
      ],
      "metadata": {
        "id": "LA2GeR2GSrNl"
      }
    },
    {
      "cell_type": "code",
      "source": [
        "cgt = df.groupby([\"CODE_GENDER\",\"TARGET\"]).size().reset_index(name=\"count\")\n",
        "print(cgt)"
      ],
      "metadata": {
        "colab": {
          "base_uri": "https://localhost:8080/"
        },
        "id": "KoA4W3d9f_0J",
        "outputId": "79d85c3f-3c40-450c-ce5c-25122ecd2224"
      },
      "execution_count": null,
      "outputs": [
        {
          "output_type": "stream",
          "name": "stdout",
          "text": [
            "  CODE_GENDER  TARGET  count\n",
            "0           F       0  44469\n",
            "1           F       1   4536\n",
            "2           M       0  23417\n",
            "3           M       1   2834\n"
          ]
        }
      ]
    },
    {
      "cell_type": "code",
      "source": [
        "sns.barplot(data = cgt, x = \"CODE_GENDER\", y= \"count\" ,hue = \"TARGET\")\n",
        "plt.title(\"Distribution Target and Gender\", fontsize=14)\n",
        "plt.xlabel(\"Gender\")\n",
        "plt.show()"
      ],
      "metadata": {
        "colab": {
          "base_uri": "https://localhost:8080/",
          "height": 473
        },
        "id": "OvVCBZyDT3Y9",
        "outputId": "d079dba4-6920-4aa5-c415-48091e9f1bb5"
      },
      "execution_count": null,
      "outputs": [
        {
          "output_type": "display_data",
          "data": {
            "text/plain": [
              "<Figure size 640x480 with 1 Axes>"
            ],
            "image/png": "[encoded data removed]"
          },
          "metadata": {}
        }
      ]
    },
    {
      "cell_type": "markdown",
      "source": [
        "Women (F) outnumber men (M) in the category with low creditworthiness (0).\n",
        "\n",
        "There are 44,469 women who consistently failed to pay their instalments, compared to 23,417 men in the same condition.\n",
        "\n",
        "Even among people with high creditworthiness (1), there are more women (4,536) than men (2,834).\n",
        "\n",
        "***However, the absolute difference is smaller compared to those with low creditworthiness.***\n",
        "\n",
        "Overall, women tend to show a slightly better distribution in terms of creditworthiness than men, as the percentage of women with high reliability is higher than that of men."
      ],
      "metadata": {
        "id": "FWA5Oax7UJdE"
      }
    },
    {
      "cell_type": "code",
      "source": [
        "nit_pivot = df.groupby(['NAME_INCOME_TYPE', 'TARGET']).size().unstack(fill_value=0)\n",
        "print(nit_pivot)"
      ],
      "metadata": {
        "colab": {
          "base_uri": "https://localhost:8080/"
        },
        "id": "6BXR8Q2Ld1OD",
        "outputId": "4c4ee0b0-cd00-4346-f5da-660a915fc260"
      },
      "execution_count": null,
      "outputs": [
        {
          "output_type": "stream",
          "name": "stdout",
          "text": [
            "TARGET                    0     1\n",
            "NAME_INCOME_TYPE                 \n",
            "Commercial associate  15610  2457\n",
            "Pensioner             12115     0\n",
            "State servant          5016   873\n",
            "Student                   6     1\n",
            "Working               35139  4039\n"
          ]
        }
      ]
    },
    {
      "cell_type": "code",
      "source": [
        "_ = nit_pivot.plot(kind=\"bar\", stacked=True, color=[\"#3274A1\", \"orange\"])\n",
        "\n",
        "plt.title(\"Creditworthiness respect to type of income (Stacked)\", fontsize=14)\n",
        "plt.xlabel(\"Type of income\")\n",
        "plt.ylabel(\"Count creditworthiness\")\n",
        "plt.xticks(rotation=45, ha=\"right\")\n",
        "plt.legend(title=\"TARGET\", labels=[\"Not Reliability (0)\", \"Reliability (1)\"])\n",
        "plt.show()"
      ],
      "metadata": {
        "colab": {
          "base_uri": "https://localhost:8080/",
          "height": 577
        },
        "id": "cZj61wNLUErq",
        "outputId": "95cf6616-f672-4d03-808c-6edbd31d8988"
      },
      "execution_count": null,
      "outputs": [
        {
          "output_type": "display_data",
          "data": {
            "text/plain": [
              "<Figure size 640x480 with 1 Axes>"
            ],
            "image/png": "[encoded data removed]"
          },
          "metadata": {}
        }
      ]
    },
    {
      "cell_type": "markdown",
      "source": [
        "**Commercial associate: ≈13.6% reliable**\n",
        "\n",
        "15,610 customers with TARGET = 0 (low reliability).\n",
        "2,457 customers with TARGET = 1 (high reliability).\n",
        "\n",
        "**Pensioners: 0% reliable**\n",
        "\n",
        "12,115 pensioners with TARGET = 0 (low reliability).\n",
        "There are no pensioners with high reliability (TARGET = 1).\n",
        "\n",
        "**State servant: ≈14.8% reliable**\n",
        "\n",
        "5,016 state employees with TARGET = 0 (low reliability).\n",
        "873 state employees with TARGET = 1 (high reliability).\n",
        "\n",
        "**Students: ≈14.3% reliable**\n",
        "\n",
        "Only 6 students with TARGET = 0 (low reliability).\n",
        "Only 1 student with TARGET = 1 (high reliability).\n",
        "\n",
        "**Working: ≈10.3% reliable**\n",
        "\n",
        "35,139 workers with TARGET = 0 (low reliability).\n",
        "4,039 workers with TARGET = 1 (high reliability)."
      ],
      "metadata": {
        "id": "o8tkam_kVTKY"
      }
    },
    {
      "cell_type": "code",
      "source": [
        "foc = df.groupby([\"FLAG_OWN_CAR\",\"TARGET\"]).size().reset_index(name=\"count\")\n",
        "print(foc)"
      ],
      "metadata": {
        "colab": {
          "base_uri": "https://localhost:8080/"
        },
        "id": "ZmC6Vm2Jmijr",
        "outputId": "2613cfb3-85d9-48f1-e425-63a6e34296b0"
      },
      "execution_count": null,
      "outputs": [
        {
          "output_type": "stream",
          "name": "stdout",
          "text": [
            "  FLAG_OWN_CAR  TARGET  count\n",
            "0            N       0  43525\n",
            "1            N       1   4152\n",
            "2            Y       0  24361\n",
            "3            Y       1   3218\n"
          ]
        }
      ]
    },
    {
      "cell_type": "code",
      "source": [
        "net_pivot = df.groupby([\"NAME_EDUCATION_TYPE\",\"TARGET\"]).size().unstack(fill_value=0)\n",
        "print(net_pivot)"
      ],
      "metadata": {
        "colab": {
          "base_uri": "https://localhost:8080/"
        },
        "id": "HKMN9IY6YGdz",
        "outputId": "9db64564-7313-4bf8-fc13-1f523b482b85"
      },
      "execution_count": null,
      "outputs": [
        {
          "output_type": "stream",
          "name": "stdout",
          "text": [
            "TARGET                             0     1\n",
            "NAME_EDUCATION_TYPE                       \n",
            "Academic degree                   40     7\n",
            "Higher education               16910  2277\n",
            "Incomplete higher               2361   165\n",
            "Lower secondary                  744    38\n",
            "Secondary / secondary special  47831  4883\n"
          ]
        }
      ]
    },
    {
      "cell_type": "code",
      "source": [
        "_ = net_pivot.plot(kind=\"bar\", stacked=True, color=[\"#3274A1\", \"orange\"])\n",
        "plt.title(\"Education Type with Target\", fontsize=14)\n",
        "plt.xlabel(\"Education Type\")\n",
        "plt.ylabel(\"Count\")\n",
        "plt.xticks(rotation=45, ha=\"right\")\n",
        "plt.show()"
      ],
      "metadata": {
        "colab": {
          "base_uri": "https://localhost:8080/",
          "height": 618
        },
        "id": "K5JVVIJyY4hu",
        "outputId": "118d58f0-41aa-4cb6-ecc1-9a68b776c568"
      },
      "execution_count": null,
      "outputs": [
        {
          "output_type": "display_data",
          "data": {
            "text/plain": [
              "<Figure size 640x480 with 1 Axes>"
            ],
            "image/png": "[encoded data removed]"
          },
          "metadata": {}
        }
      ]
    },
    {
      "cell_type": "markdown",
      "source": [
        "People with a **higher education and Seconday/s. special tend to have a higher creditworthiness**.\n",
        "\n",
        "People with a higher level and Secondary level of education **might have more stable and continuous careers, reducing the risk of default.**"
      ],
      "metadata": {
        "id": "rz27Bg3IYG1e"
      }
    },
    {
      "cell_type": "code",
      "source": [
        "sns.countplot(data=df, x=\"FLAG_OWN_CAR\", hue=\"TARGET\")\n",
        "plt.title(\"Distribution of Target by Machine Ownership\")\n",
        "plt.xlabel(\"Machine Ownership\")\n",
        "plt.ylabel(\"Count\")\n",
        "plt.show()"
      ],
      "metadata": {
        "id": "GLYQdmyGUhZ_",
        "colab": {
          "base_uri": "https://localhost:8080/",
          "height": 472
        },
        "outputId": "a0b933b4-19f7-44ea-c9c9-6045909c30ca"
      },
      "execution_count": null,
      "outputs": [
        {
          "output_type": "display_data",
          "data": {
            "text/plain": [
              "<Figure size 640x480 with 1 Axes>"
            ],
            "image/png": "[encoded data removed]"
          },
          "metadata": {}
        }
      ]
    },
    {
      "cell_type": "markdown",
      "source": [
        "From the graph, we can see that there is a large number of people without a car who have low creditworthiness (43,525 people ).\n",
        "\n",
        "The figure of people without a car with high creditworthiness is significantly lower, 4,152 people.\n",
        "\n",
        "**Similar trend for people with a car:**\n",
        "\n",
        "People with a car tend to have lower creditworthiness (24,361 people) than those with high creditworthiness (3,218 people).\n",
        "\n",
        "**There are many more people without a car who have low creditworthiness than those who own a car.**"
      ],
      "metadata": {
        "id": "2teeAqpenHx_"
      }
    },
    {
      "cell_type": "markdown",
      "source": [
        "# *Data Preprocessing*"
      ],
      "metadata": {
        "id": "9ZAOmaef5n-M"
      }
    },
    {
      "cell_type": "code",
      "source": [
        "binary_columns = [\"CODE_GENDER\",\"FLAG_OWN_CAR\",\"FLAG_OWN_REALTY\"]\n",
        "\n",
        "le = LabelEncoder()\n",
        "for col in binary_columns:\n",
        "  df[col]= le.fit_transform(df[col])"
      ],
      "metadata": {
        "id": "_gTpRY0YIeVC"
      },
      "execution_count": null,
      "outputs": []
    },
    {
      "cell_type": "code",
      "source": [
        "categorical_columns = [\"NAME_INCOME_TYPE\",\n",
        "                       \"NAME_EDUCATION_TYPE\",\n",
        "                       \"NAME_FAMILY_STATUS\",\n",
        "                       \"NAME_HOUSING_TYPE\",\n",
        "                       \"OCCUPATION_TYPE\"]\n",
        "\n",
        "df = pd.get_dummies(df,columns = categorical_columns, drop_first=True).astype(int) #to exclude collinearity drop_first=True"
      ],
      "metadata": {
        "id": "9nmORHemKQQY"
      },
      "execution_count": null,
      "outputs": []
    },
    {
      "cell_type": "code",
      "source": [
        "df.describe()"
      ],
      "metadata": {
        "id": "PxbO1uUENjRA",
        "colab": {
          "base_uri": "https://localhost:8080/",
          "height": 367
        },
        "outputId": "595abf7b-6dc4-47d7-efdd-5cbb105ff102"
      },
      "execution_count": null,
      "outputs": [
        {
          "output_type": "execute_result",
          "data": {
            "text/plain": [
              "        CODE_GENDER  FLAG_OWN_CAR  FLAG_OWN_REALTY  CNT_CHILDREN  \\\n",
              "count  75256.000000  75256.000000     75256.000000  75256.000000   \n",
              "mean       0.348823      0.366469         0.682683      0.409070   \n",
              "std        0.476601      0.481843         0.465435      0.719442   \n",
              "min        0.000000      0.000000         0.000000      0.000000   \n",
              "25%        0.000000      0.000000         0.000000      0.000000   \n",
              "50%        0.000000      0.000000         1.000000      0.000000   \n",
              "75%        1.000000      1.000000         1.000000      1.000000   \n",
              "max        1.000000      1.000000         1.000000     19.000000   \n",
              "\n",
              "       AMT_INCOME_TOTAL    DAYS_BIRTH  DAYS_EMPLOYED  FLAG_MOBIL  \\\n",
              "count      7.525600e+04  75256.000000   75256.000000     75256.0   \n",
              "mean       1.848544e+05 -16076.620695   56591.817689         1.0   \n",
              "std        1.069342e+05   4185.574252  135218.584928         0.0   \n",
              "min        2.610000e+04 -25201.000000  -17531.000000         1.0   \n",
              "25%        1.125000e+05 -19482.000000   -3124.000000         1.0   \n",
              "50%        1.575000e+05 -15969.500000   -1493.000000         1.0   \n",
              "75%        2.250000e+05 -12600.750000    -398.000000         1.0   \n",
              "max        6.750000e+06  -7489.000000  365243.000000         1.0   \n",
              "\n",
              "       FLAG_WORK_PHONE    FLAG_PHONE  ...  OCCUPATION_TYPE_Managers  \\\n",
              "count     75256.000000  75256.000000  ...              75256.000000   \n",
              "mean          0.206974      0.282569  ...                  0.079954   \n",
              "std           0.405139      0.450251  ...                  0.271223   \n",
              "min           0.000000      0.000000  ...                  0.000000   \n",
              "25%           0.000000      0.000000  ...                  0.000000   \n",
              "50%           0.000000      0.000000  ...                  0.000000   \n",
              "75%           0.000000      1.000000  ...                  0.000000   \n",
              "max           1.000000      1.000000  ...                  1.000000   \n",
              "\n",
              "       OCCUPATION_TYPE_Medicine staff  OCCUPATION_TYPE_Pensioner  \\\n",
              "count                    75256.000000               75256.000000   \n",
              "mean                         0.028928                   0.160984   \n",
              "std                          0.167605                   0.367518   \n",
              "min                          0.000000                   0.000000   \n",
              "25%                          0.000000                   0.000000   \n",
              "50%                          0.000000                   0.000000   \n",
              "75%                          0.000000                   0.000000   \n",
              "max                          1.000000                   1.000000   \n",
              "\n",
              "       OCCUPATION_TYPE_Private service staff  OCCUPATION_TYPE_Realty agents  \\\n",
              "count                           75256.000000                   75256.000000   \n",
              "mean                                0.008584                       0.002644   \n",
              "std                                 0.092252                       0.051355   \n",
              "min                                 0.000000                       0.000000   \n",
              "25%                                 0.000000                       0.000000   \n",
              "50%                                 0.000000                       0.000000   \n",
              "75%                                 0.000000                       0.000000   \n",
              "max                                 1.000000                       1.000000   \n",
              "\n",
              "       OCCUPATION_TYPE_Sales staff  OCCUPATION_TYPE_Secretaries  \\\n",
              "count                 75256.000000                 75256.000000   \n",
              "mean                      0.098304                     0.004491   \n",
              "std                       0.297728                     0.066867   \n",
              "min                       0.000000                     0.000000   \n",
              "25%                       0.000000                     0.000000   \n",
              "50%                       0.000000                     0.000000   \n",
              "75%                       0.000000                     0.000000   \n",
              "max                       1.000000                     1.000000   \n",
              "\n",
              "       OCCUPATION_TYPE_Security staff  OCCUPATION_TYPE_Unknown  \\\n",
              "count                    75256.000000             75256.000000   \n",
              "mean                         0.019812                 0.133013   \n",
              "std                          0.139356                 0.339591   \n",
              "min                          0.000000                 0.000000   \n",
              "25%                          0.000000                 0.000000   \n",
              "50%                          0.000000                 0.000000   \n",
              "75%                          0.000000                 0.000000   \n",
              "max                          1.000000                 1.000000   \n",
              "\n",
              "       OCCUPATION_TYPE_Waiters/barmen staff  \n",
              "count                          75256.000000  \n",
              "mean                               0.004106  \n",
              "std                                0.063947  \n",
              "min                                0.000000  \n",
              "25%                                0.000000  \n",
              "50%                                0.000000  \n",
              "75%                                0.000000  \n",
              "max                                1.000000  \n",
              "\n",
              "[8 rows x 49 columns]"
            ],
            "text/html": [
              "\n",
              "  <div id=\"df-cd6aa7e8-07d7-4c99-9aa2-7d6b1b430cdc\" class=\"colab-df-container\">\n",
              "    <div>\n",
              "<style scoped>\n",
              "    .dataframe tbody tr th:only-of-type {\n",
              "        vertical-align: middle;\n",
              "    }\n",
              "\n",
              "    .dataframe tbody tr th {\n",
              "        vertical-align: top;\n",
              "    }\n",
              "\n",
              "    .dataframe thead th {\n",
              "        text-align: right;\n",
              "    }\n",
              "</style>\n",
              "<table border=\"1\" class=\"dataframe\">\n",
              "  <thead>\n",
              "    <tr style=\"text-align: right;\">\n",
              "      <th></th>\n",
              "      <th>CODE_GENDER</th>\n",
              "      <th>FLAG_OWN_CAR</th>\n",
              "      <th>FLAG_OWN_REALTY</th>\n",
              "      <th>CNT_CHILDREN</th>\n",
              "      <th>AMT_INCOME_TOTAL</th>\n",
              "      <th>DAYS_BIRTH</th>\n",
              "      <th>DAYS_EMPLOYED</th>\n",
              "      <th>FLAG_MOBIL</th>\n",
              "      <th>FLAG_WORK_PHONE</th>\n",
              "      <th>FLAG_PHONE</th>\n",
              "      <th>...</th>\n",
              "      <th>OCCUPATION_TYPE_Managers</th>\n",
              "      <th>OCCUPATION_TYPE_Medicine staff</th>\n",
              "      <th>OCCUPATION_TYPE_Pensioner</th>\n",
              "      <th>OCCUPATION_TYPE_Private service staff</th>\n",
              "      <th>OCCUPATION_TYPE_Realty agents</th>\n",
              "      <th>OCCUPATION_TYPE_Sales staff</th>\n",
              "      <th>OCCUPATION_TYPE_Secretaries</th>\n",
              "      <th>OCCUPATION_TYPE_Security staff</th>\n",
              "      <th>OCCUPATION_TYPE_Unknown</th>\n",
              "      <th>OCCUPATION_TYPE_Waiters/barmen staff</th>\n",
              "    </tr>\n",
              "  </thead>\n",
              "  <tbody>\n",
              "    <tr>\n",
              "      <th>count</th>\n",
              "      <td>75256.000000</td>\n",
              "      <td>75256.000000</td>\n",
              "      <td>75256.000000</td>\n",
              "      <td>75256.000000</td>\n",
              "      <td>7.525600e+04</td>\n",
              "      <td>75256.000000</td>\n",
              "      <td>75256.000000</td>\n",
              "      <td>75256.0</td>\n",
              "      <td>75256.000000</td>\n",
              "      <td>75256.000000</td>\n",
              "      <td>...</td>\n",
              "      <td>75256.000000</td>\n",
              "      <td>75256.000000</td>\n",
              "      <td>75256.000000</td>\n",
              "      <td>75256.000000</td>\n",
              "      <td>75256.000000</td>\n",
              "      <td>75256.000000</td>\n",
              "      <td>75256.000000</td>\n",
              "      <td>75256.000000</td>\n",
              "      <td>75256.000000</td>\n",
              "      <td>75256.000000</td>\n",
              "    </tr>\n",
              "    <tr>\n",
              "      <th>mean</th>\n",
              "      <td>0.348823</td>\n",
              "      <td>0.366469</td>\n",
              "      <td>0.682683</td>\n",
              "      <td>0.409070</td>\n",
              "      <td>1.848544e+05</td>\n",
              "      <td>-16076.620695</td>\n",
              "      <td>56591.817689</td>\n",
              "      <td>1.0</td>\n",
              "      <td>0.206974</td>\n",
              "      <td>0.282569</td>\n",
              "      <td>...</td>\n",
              "      <td>0.079954</td>\n",
              "      <td>0.028928</td>\n",
              "      <td>0.160984</td>\n",
              "      <td>0.008584</td>\n",
              "      <td>0.002644</td>\n",
              "      <td>0.098304</td>\n",
              "      <td>0.004491</td>\n",
              "      <td>0.019812</td>\n",
              "      <td>0.133013</td>\n",
              "      <td>0.004106</td>\n",
              "    </tr>\n",
              "    <tr>\n",
              "      <th>std</th>\n",
              "      <td>0.476601</td>\n",
              "      <td>0.481843</td>\n",
              "      <td>0.465435</td>\n",
              "      <td>0.719442</td>\n",
              "      <td>1.069342e+05</td>\n",
              "      <td>4185.574252</td>\n",
              "      <td>135218.584928</td>\n",
              "      <td>0.0</td>\n",
              "      <td>0.405139</td>\n",
              "      <td>0.450251</td>\n",
              "      <td>...</td>\n",
              "      <td>0.271223</td>\n",
              "      <td>0.167605</td>\n",
              "      <td>0.367518</td>\n",
              "      <td>0.092252</td>\n",
              "      <td>0.051355</td>\n",
              "      <td>0.297728</td>\n",
              "      <td>0.066867</td>\n",
              "      <td>0.139356</td>\n",
              "      <td>0.339591</td>\n",
              "      <td>0.063947</td>\n",
              "    </tr>\n",
              "    <tr>\n",
              "      <th>min</th>\n",
              "      <td>0.000000</td>\n",
              "      <td>0.000000</td>\n",
              "      <td>0.000000</td>\n",
              "      <td>0.000000</td>\n",
              "      <td>2.610000e+04</td>\n",
              "      <td>-25201.000000</td>\n",
              "      <td>-17531.000000</td>\n",
              "      <td>1.0</td>\n",
              "      <td>0.000000</td>\n",
              "      <td>0.000000</td>\n",
              "      <td>...</td>\n",
              "      <td>0.000000</td>\n",
              "      <td>0.000000</td>\n",
              "      <td>0.000000</td>\n",
              "      <td>0.000000</td>\n",
              "      <td>0.000000</td>\n",
              "      <td>0.000000</td>\n",
              "      <td>0.000000</td>\n",
              "      <td>0.000000</td>\n",
              "      <td>0.000000</td>\n",
              "      <td>0.000000</td>\n",
              "    </tr>\n",
              "    <tr>\n",
              "      <th>25%</th>\n",
              "      <td>0.000000</td>\n",
              "      <td>0.000000</td>\n",
              "      <td>0.000000</td>\n",
              "      <td>0.000000</td>\n",
              "      <td>1.125000e+05</td>\n",
              "      <td>-19482.000000</td>\n",
              "      <td>-3124.000000</td>\n",
              "      <td>1.0</td>\n",
              "      <td>0.000000</td>\n",
              "      <td>0.000000</td>\n",
              "      <td>...</td>\n",
              "      <td>0.000000</td>\n",
              "      <td>0.000000</td>\n",
              "      <td>0.000000</td>\n",
              "      <td>0.000000</td>\n",
              "      <td>0.000000</td>\n",
              "      <td>0.000000</td>\n",
              "      <td>0.000000</td>\n",
              "      <td>0.000000</td>\n",
              "      <td>0.000000</td>\n",
              "      <td>0.000000</td>\n",
              "    </tr>\n",
              "    <tr>\n",
              "      <th>50%</th>\n",
              "      <td>0.000000</td>\n",
              "      <td>0.000000</td>\n",
              "      <td>1.000000</td>\n",
              "      <td>0.000000</td>\n",
              "      <td>1.575000e+05</td>\n",
              "      <td>-15969.500000</td>\n",
              "      <td>-1493.000000</td>\n",
              "      <td>1.0</td>\n",
              "      <td>0.000000</td>\n",
              "      <td>0.000000</td>\n",
              "      <td>...</td>\n",
              "      <td>0.000000</td>\n",
              "      <td>0.000000</td>\n",
              "      <td>0.000000</td>\n",
              "      <td>0.000000</td>\n",
              "      <td>0.000000</td>\n",
              "      <td>0.000000</td>\n",
              "      <td>0.000000</td>\n",
              "      <td>0.000000</td>\n",
              "      <td>0.000000</td>\n",
              "      <td>0.000000</td>\n",
              "    </tr>\n",
              "    <tr>\n",
              "      <th>75%</th>\n",
              "      <td>1.000000</td>\n",
              "      <td>1.000000</td>\n",
              "      <td>1.000000</td>\n",
              "      <td>1.000000</td>\n",
              "      <td>2.250000e+05</td>\n",
              "      <td>-12600.750000</td>\n",
              "      <td>-398.000000</td>\n",
              "      <td>1.0</td>\n",
              "      <td>0.000000</td>\n",
              "      <td>1.000000</td>\n",
              "      <td>...</td>\n",
              "      <td>0.000000</td>\n",
              "      <td>0.000000</td>\n",
              "      <td>0.000000</td>\n",
              "      <td>0.000000</td>\n",
              "      <td>0.000000</td>\n",
              "      <td>0.000000</td>\n",
              "      <td>0.000000</td>\n",
              "      <td>0.000000</td>\n",
              "      <td>0.000000</td>\n",
              "      <td>0.000000</td>\n",
              "    </tr>\n",
              "    <tr>\n",
              "      <th>max</th>\n",
              "      <td>1.000000</td>\n",
              "      <td>1.000000</td>\n",
              "      <td>1.000000</td>\n",
              "      <td>19.000000</td>\n",
              "      <td>6.750000e+06</td>\n",
              "      <td>-7489.000000</td>\n",
              "      <td>365243.000000</td>\n",
              "      <td>1.0</td>\n",
              "      <td>1.000000</td>\n",
              "      <td>1.000000</td>\n",
              "      <td>...</td>\n",
              "      <td>1.000000</td>\n",
              "      <td>1.000000</td>\n",
              "      <td>1.000000</td>\n",
              "      <td>1.000000</td>\n",
              "      <td>1.000000</td>\n",
              "      <td>1.000000</td>\n",
              "      <td>1.000000</td>\n",
              "      <td>1.000000</td>\n",
              "      <td>1.000000</td>\n",
              "      <td>1.000000</td>\n",
              "    </tr>\n",
              "  </tbody>\n",
              "</table>\n",
              "<p>8 rows × 49 columns</p>\n",
              "</div>\n",
              "    <div class=\"colab-df-buttons\">\n",
              "\n",
              "  <div class=\"colab-df-container\">\n",
              "    <button class=\"colab-df-convert\" onclick=\"convertToInteractive('df-cd6aa7e8-07d7-4c99-9aa2-7d6b1b430cdc')\"\n",
              "            title=\"Convert this dataframe to an interactive table.\"\n",
              "            style=\"display:none;\">\n",
              "\n",
              "  <svg xmlns=\"http://www.w3.org/2000/svg\" height=\"24px\" viewBox=\"0 -960 960 960\">\n",
              "    <path d=\"M120-120v-720h720v720H120Zm60-500h600v-160H180v160Zm220 220h160v-160H400v160Zm0 220h160v-160H400v160ZM180-400h160v-160H180v160Zm440 0h160v-160H620v160ZM180-180h160v-160H180v160Zm440 0h160v-160H620v160Z\"/>\n",
              "  </svg>\n",
              "    </button>\n",
              "\n",
              "  <style>\n",
              "    .colab-df-container {\n",
              "      display:flex;\n",
              "      gap: 12px;\n",
              "    }\n",
              "\n",
              "    .colab-df-convert {\n",
              "      background-color: #E8F0FE;\n",
              "      border: none;\n",
              "      border-radius: 50%;\n",
              "      cursor: pointer;\n",
              "      display: none;\n",
              "      fill: #1967D2;\n",
              "      height: 32px;\n",
              "      padding: 0 0 0 0;\n",
              "      width: 32px;\n",
              "    }\n",
              "\n",
              "    .colab-df-convert:hover {\n",
              "      background-color: #E2EBFA;\n",
              "      box-shadow: 0px 1px 2px rgba(60, 64, 67, 0.3), 0px 1px 3px 1px rgba(60, 64, 67, 0.15);\n",
              "      fill: #174EA6;\n",
              "    }\n",
              "\n",
              "    .colab-df-buttons div {\n",
              "      margin-bottom: 4px;\n",
              "    }\n",
              "\n",
              "    [theme=dark] .colab-df-convert {\n",
              "      background-color: #3B4455;\n",
              "      fill: #D2E3FC;\n",
              "    }\n",
              "\n",
              "    [theme=dark] .colab-df-convert:hover {\n",
              "      background-color: #434B5C;\n",
              "      box-shadow: 0px 1px 3px 1px rgba(0, 0, 0, 0.15);\n",
              "      filter: drop-shadow(0px 1px 2px rgba(0, 0, 0, 0.3));\n",
              "      fill: #FFFFFF;\n",
              "    }\n",
              "  </style>\n",
              "\n",
              "    <script>\n",
              "      const buttonEl =\n",
              "        document.querySelector('#df-cd6aa7e8-07d7-4c99-9aa2-7d6b1b430cdc button.colab-df-convert');\n",
              "      buttonEl.style.display =\n",
              "        google.colab.kernel.accessAllowed ? 'block' : 'none';\n",
              "\n",
              "      async function convertToInteractive(key) {\n",
              "        const element = document.querySelector('#df-cd6aa7e8-07d7-4c99-9aa2-7d6b1b430cdc');\n",
              "        const dataTable =\n",
              "          await google.colab.kernel.invokeFunction('convertToInteractive',\n",
              "                                                    [key], {});\n",
              "        if (!dataTable) return;\n",
              "\n",
              "        const docLinkHtml = 'Like what you see? Visit the ' +\n",
              "          '<a target=\"_blank\" href=https://colab.research.google.com/notebooks/data_table.ipynb>data table notebook</a>'\n",
              "          + ' to learn more about interactive tables.';\n",
              "        element.innerHTML = '';\n",
              "        dataTable['output_type'] = 'display_data';\n",
              "        await google.colab.output.renderOutput(dataTable, element);\n",
              "        const docLink = document.createElement('div');\n",
              "        docLink.innerHTML = docLinkHtml;\n",
              "        element.appendChild(docLink);\n",
              "      }\n",
              "    </script>\n",
              "  </div>\n",
              "\n",
              "\n",
              "<div id=\"df-d5103f9f-15b2-4ee6-ab43-4d500ffa7c28\">\n",
              "  <button class=\"colab-df-quickchart\" onclick=\"quickchart('df-d5103f9f-15b2-4ee6-ab43-4d500ffa7c28')\"\n",
              "            title=\"Suggest charts\"\n",
              "            style=\"display:none;\">\n",
              "\n",
              "<svg xmlns=\"http://www.w3.org/2000/svg\" height=\"24px\"viewBox=\"0 0 24 24\"\n",
              "     width=\"24px\">\n",
              "    <g>\n",
              "        <path d=\"M19 3H5c-1.1 0-2 .9-2 2v14c0 1.1.9 2 2 2h14c1.1 0 2-.9 2-2V5c0-1.1-.9-2-2-2zM9 17H7v-7h2v7zm4 0h-2V7h2v10zm4 0h-2v-4h2v4z\"/>\n",
              "    </g>\n",
              "</svg>\n",
              "  </button>\n",
              "\n",
              "<style>\n",
              "  .colab-df-quickchart {\n",
              "      --bg-color: #E8F0FE;\n",
              "      --fill-color: #1967D2;\n",
              "      --hover-bg-color: #E2EBFA;\n",
              "      --hover-fill-color: #174EA6;\n",
              "      --disabled-fill-color: #AAA;\n",
              "      --disabled-bg-color: #DDD;\n",
              "  }\n",
              "\n",
              "  [theme=dark] .colab-df-quickchart {\n",
              "      --bg-color: #3B4455;\n",
              "      --fill-color: #D2E3FC;\n",
              "      --hover-bg-color: #434B5C;\n",
              "      --hover-fill-color: #FFFFFF;\n",
              "      --disabled-bg-color: #3B4455;\n",
              "      --disabled-fill-color: #666;\n",
              "  }\n",
              "\n",
              "  .colab-df-quickchart {\n",
              "    background-color: var(--bg-color);\n",
              "    border: none;\n",
              "    border-radius: 50%;\n",
              "    cursor: pointer;\n",
              "    display: none;\n",
              "    fill: var(--fill-color);\n",
              "    height: 32px;\n",
              "    padding: 0;\n",
              "    width: 32px;\n",
              "  }\n",
              "\n",
              "  .colab-df-quickchart:hover {\n",
              "    background-color: var(--hover-bg-color);\n",
              "    box-shadow: 0 1px 2px rgba(60, 64, 67, 0.3), 0 1px 3px 1px rgba(60, 64, 67, 0.15);\n",
              "    fill: var(--button-hover-fill-color);\n",
              "  }\n",
              "\n",
              "  .colab-df-quickchart-complete:disabled,\n",
              "  .colab-df-quickchart-complete:disabled:hover {\n",
              "    background-color: var(--disabled-bg-color);\n",
              "    fill: var(--disabled-fill-color);\n",
              "    box-shadow: none;\n",
              "  }\n",
              "\n",
              "  .colab-df-spinner {\n",
              "    border: 2px solid var(--fill-color);\n",
              "    border-color: transparent;\n",
              "    border-bottom-color: var(--fill-color);\n",
              "    animation:\n",
              "      spin 1s steps(1) infinite;\n",
              "  }\n",
              "\n",
              "  @keyframes spin {\n",
              "    0% {\n",
              "      border-color: transparent;\n",
              "      border-bottom-color: var(--fill-color);\n",
              "      border-left-color: var(--fill-color);\n",
              "    }\n",
              "    20% {\n",
              "      border-color: transparent;\n",
              "      border-left-color: var(--fill-color);\n",
              "      border-top-color: var(--fill-color);\n",
              "    }\n",
              "    30% {\n",
              "      border-color: transparent;\n",
              "      border-left-color: var(--fill-color);\n",
              "      border-top-color: var(--fill-color);\n",
              "      border-right-color: var(--fill-color);\n",
              "    }\n",
              "    40% {\n",
              "      border-color: transparent;\n",
              "      border-right-color: var(--fill-color);\n",
              "      border-top-color: var(--fill-color);\n",
              "    }\n",
              "    60% {\n",
              "      border-color: transparent;\n",
              "      border-right-color: var(--fill-color);\n",
              "    }\n",
              "    80% {\n",
              "      border-color: transparent;\n",
              "      border-right-color: var(--fill-color);\n",
              "      border-bottom-color: var(--fill-color);\n",
              "    }\n",
              "    90% {\n",
              "      border-color: transparent;\n",
              "      border-bottom-color: var(--fill-color);\n",
              "    }\n",
              "  }\n",
              "</style>\n",
              "\n",
              "  <script>\n",
              "    async function quickchart(key) {\n",
              "      const quickchartButtonEl =\n",
              "        document.querySelector('#' + key + ' button');\n",
              "      quickchartButtonEl.disabled = true;  // To prevent multiple clicks.\n",
              "      quickchartButtonEl.classList.add('colab-df-spinner');\n",
              "      try {\n",
              "        const charts = await google.colab.kernel.invokeFunction(\n",
              "            'suggestCharts', [key], {});\n",
              "      } catch (error) {\n",
              "        console.error('Error during call to suggestCharts:', error);\n",
              "      }\n",
              "      quickchartButtonEl.classList.remove('colab-df-spinner');\n",
              "      quickchartButtonEl.classList.add('colab-df-quickchart-complete');\n",
              "    }\n",
              "    (() => {\n",
              "      let quickchartButtonEl =\n",
              "        document.querySelector('#df-d5103f9f-15b2-4ee6-ab43-4d500ffa7c28 button');\n",
              "      quickchartButtonEl.style.display =\n",
              "        google.colab.kernel.accessAllowed ? 'block' : 'none';\n",
              "    })();\n",
              "  </script>\n",
              "</div>\n",
              "\n",
              "    </div>\n",
              "  </div>\n"
            ],
            "application/vnd.google.colaboratory.intrinsic+json": {
              "type": "dataframe"
            }
          },
          "metadata": {},
          "execution_count": 24
        }
      ]
    },
    {
      "cell_type": "code",
      "source": [
        "#Set Variables\n",
        "X = df.drop([\"TARGET\"], axis = 1).values\n",
        "y = df[\"TARGET\"].values\n",
        "\n",
        "X.shape, y.shape"
      ],
      "metadata": {
        "colab": {
          "base_uri": "https://localhost:8080/"
        },
        "id": "LsLxCP4wpMLk",
        "outputId": "06b5b822-fd16-4fc6-d423-13d85ace3511"
      },
      "execution_count": null,
      "outputs": [
        {
          "output_type": "execute_result",
          "data": {
            "text/plain": [
              "((75256, 48), (75256,))"
            ]
          },
          "metadata": {},
          "execution_count": 25
        }
      ]
    },
    {
      "cell_type": "code",
      "source": [
        "#Split train e test set\n",
        "RANDOM_SEED= 42\n",
        "\n",
        "X_train, X_test, y_train, y_test = train_test_split(X, y, test_size=.2, random_state=RANDOM_SEED, stratify= y)"
      ],
      "metadata": {
        "id": "RtTqqYlVpbbV"
      },
      "execution_count": null,
      "outputs": []
    },
    {
      "cell_type": "code",
      "source": [
        "#StandarScaler\n",
        "ss = StandardScaler()\n",
        "X_train = ss.fit_transform(X_train)\n",
        "X_test = ss.transform(X_test)\n",
        "\n",
        "X_train.shape , X_test.shape"
      ],
      "metadata": {
        "id": "IgYgBg0CPyXW",
        "colab": {
          "base_uri": "https://localhost:8080/"
        },
        "outputId": "8b2a56be-fc83-4662-a9de-86c6af92d6ce"
      },
      "execution_count": null,
      "outputs": [
        {
          "output_type": "execute_result",
          "data": {
            "text/plain": [
              "((60204, 48), (15052, 48))"
            ]
          },
          "metadata": {},
          "execution_count": 27
        }
      ]
    },
    {
      "cell_type": "code",
      "source": [
        "X_train.mean() , X_train.std()"
      ],
      "metadata": {
        "colab": {
          "base_uri": "https://localhost:8080/"
        },
        "id": "DLyaDCEWjOR_",
        "outputId": "4e51e4de-b2ea-47ff-d00c-38995414fa01"
      },
      "execution_count": null,
      "outputs": [
        {
          "output_type": "execute_result",
          "data": {
            "text/plain": [
              "(-1.8795699856024746e-17, 0.9895285072532629)"
            ]
          },
          "metadata": {},
          "execution_count": 28
        }
      ]
    },
    {
      "cell_type": "markdown",
      "source": [
        "# *Logistic regression - Class Weight: \"Balanced\"*"
      ],
      "metadata": {
        "id": "zraDW3c251xR"
      }
    },
    {
      "cell_type": "code",
      "source": [
        "#fit LogisticRegression\n",
        "lr = LogisticRegression(class_weight=\"balanced\", random_state=RANDOM_SEED)\n",
        "lr.fit(X_train,y_train)\n",
        "\n",
        "y_pred_train = lr.predict(X_train)\n",
        "y_proba_train = lr.predict_proba(X_train)\n",
        "\n",
        "y_pred_test = lr.predict(X_test)\n",
        "y_proba_test = lr.predict_proba(X_test)\n",
        "\n",
        "#Confusion matrix and Classification reports\n",
        "cm = confusion_matrix(y_test,y_pred_test)\n",
        "print(cm)\n",
        "print(f\"*\" * 60)\n",
        "print(f\"Train Report\")\n",
        "print(classification_report(y_train,y_pred_train))\n",
        "print(f\"*\" * 60)\n",
        "print(f\"Test Report\")\n",
        "print(classification_report(y_test,y_pred_test))\n",
        "print(f\"*\" * 60)\n",
        "print(\"Train ROC-AUC:\", (roc_auc_score(y_train, y_proba_train[:, 1])))\n",
        "print(\"Test ROC-AUC:\", roc_auc_score(y_test, y_proba_test[:, 1]))\n"
      ],
      "metadata": {
        "colab": {
          "base_uri": "https://localhost:8080/"
        },
        "id": "RFxhprECslej",
        "outputId": "c6de89af-c93c-40a3-d7c5-bee61b65d6dd"
      },
      "execution_count": null,
      "outputs": [
        {
          "output_type": "stream",
          "name": "stdout",
          "text": [
            "[[10757  2821]\n",
            " [  196  1278]]\n",
            "************************************************************\n",
            "Train Report\n",
            "              precision    recall  f1-score   support\n",
            "\n",
            "           0       0.98      0.79      0.88     54308\n",
            "           1       0.32      0.89      0.47      5896\n",
            "\n",
            "    accuracy                           0.80     60204\n",
            "   macro avg       0.65      0.84      0.67     60204\n",
            "weighted avg       0.92      0.80      0.84     60204\n",
            "\n",
            "************************************************************\n",
            "Test Report\n",
            "              precision    recall  f1-score   support\n",
            "\n",
            "           0       0.98      0.79      0.88     13578\n",
            "           1       0.31      0.87      0.46      1474\n",
            "\n",
            "    accuracy                           0.80     15052\n",
            "   macro avg       0.65      0.83      0.67     15052\n",
            "weighted avg       0.92      0.80      0.84     15052\n",
            "\n",
            "************************************************************\n",
            "Train ROC-AUC: 0.901848726918049\n",
            "Test ROC-AUC: 0.8976649412720273\n"
          ]
        }
      ]
    },
    {
      "cell_type": "markdown",
      "source": [
        "# *Smote Model*"
      ],
      "metadata": {
        "id": "pnDd0c8A6KDE"
      }
    },
    {
      "cell_type": "code",
      "source": [
        "#fit smote\n",
        "smote = SMOTE()\n",
        "X_train_resampled, y_train_resampled = smote.fit_resample(X_train,y_train)\n",
        "\n",
        "model= LogisticRegression(random_state=RANDOM_SEED, max_iter=500)\n",
        "model.fit(X_train_resampled, y_train_resampled)\n",
        "\n",
        "y_pred = model.predict(X_test)\n",
        "y_pred_train_resampled = model.predict(X_train_resampled)\n",
        "\n",
        "y_proba_train_smote = model.predict_proba(X_train)\n",
        "y_proba_test_smote = model.predict_proba(X_test)\n",
        "\n",
        "cm_smote = confusion_matrix(y_test,y_pred)\n",
        "print(cm_smote)\n",
        "print(f\"*\" * 60)\n",
        "print(f\"Train Report\")\n",
        "print(classification_report(y_train_resampled,y_pred_train_resampled))\n",
        "print(f\"*\" * 60)\n",
        "print(f\"Test Report\")\n",
        "print(classification_report(y_test,y_pred))\n",
        "print(f\"*\" * 60)\n",
        "print(\"Train ROC-AUC:\", roc_auc_score(y_train, y_proba_train_smote[:, 1]))\n",
        "print(\"Test ROC-AUC:\", roc_auc_score(y_test, y_proba_test_smote[:, 1]))\n"
      ],
      "metadata": {
        "colab": {
          "base_uri": "https://localhost:8080/"
        },
        "id": "RJiPp8CpyM_R",
        "outputId": "8f0feb77-8811-4c81-faf1-1991a4d03ffd"
      },
      "execution_count": null,
      "outputs": [
        {
          "output_type": "stream",
          "name": "stdout",
          "text": [
            "[[10925  2653]\n",
            " [  227  1247]]\n",
            "************************************************************\n",
            "Train Report\n",
            "              precision    recall  f1-score   support\n",
            "\n",
            "           0       0.90      0.80      0.85     54308\n",
            "           1       0.82      0.91      0.87     54308\n",
            "\n",
            "    accuracy                           0.86    108616\n",
            "   macro avg       0.86      0.86      0.86    108616\n",
            "weighted avg       0.86      0.86      0.86    108616\n",
            "\n",
            "************************************************************\n",
            "Test Report\n",
            "              precision    recall  f1-score   support\n",
            "\n",
            "           0       0.98      0.80      0.88     13578\n",
            "           1       0.32      0.85      0.46      1474\n",
            "\n",
            "    accuracy                           0.81     15052\n",
            "   macro avg       0.65      0.83      0.67     15052\n",
            "weighted avg       0.92      0.81      0.84     15052\n",
            "\n",
            "************************************************************\n",
            "Train ROC-AUC: 0.9022883115965833\n",
            "Test ROC-AUC: 0.897904423969415\n"
          ]
        }
      ]
    },
    {
      "cell_type": "code",
      "source": [
        "# ROC Curve for Train Set\n",
        "fpr_train, tpr_train, thresholds_train = roc_curve(y_train, y_proba_train[:, 1])\n",
        "roc_auc_train = auc(fpr_train, tpr_train)\n",
        "\n",
        "# ROC Curve for Test Set\n",
        "fpr_test, tpr_test, thresholds_test = roc_curve(y_test, y_proba_test[:, 1])\n",
        "roc_auc_test = auc(fpr_test, tpr_test)\n",
        "\n",
        "# Plotting\n",
        "plt.figure(figsize=(12, 6))\n",
        "\n",
        "# Plot for Train Set\n",
        "plt.subplot(1, 2, 1)\n",
        "plt.plot(fpr_train, tpr_train, color='darkorange', lw=2, label='ROC curve (area = %0.2f)' % roc_auc_train)\n",
        "plt.plot([0, 1], [0, 1], color='navy', lw=2, linestyle='--')\n",
        "plt.xlim([0.0, 1.0])\n",
        "plt.ylim([0.0, 1.05])\n",
        "plt.xlabel('False Positive Rate')\n",
        "plt.ylabel('True Positive Rate')\n",
        "plt.title('ROC Curve - Train Set')\n",
        "plt.legend(loc=\"lower right\")\n",
        "\n",
        "# Plot for Test Set\n",
        "plt.subplot(1, 2, 2)\n",
        "plt.plot(fpr_test, tpr_test, color='darkorange', lw=2, label='ROC curve (area = %0.2f)' % roc_auc_test)\n",
        "plt.plot([0, 1], [0, 1], color='navy', lw=2, linestyle='--')\n",
        "plt.xlim([0.0, 1.0])\n",
        "plt.ylim([0.0, 1.05])\n",
        "plt.xlabel('False Positive Rate')\n",
        "plt.ylabel('True Positive Rate')\n",
        "plt.title('ROC Curve - Test Set')\n",
        "plt.legend(loc=\"lower right\")\n",
        "\n",
        "plt.tight_layout()\n",
        "plt.show()"
      ],
      "metadata": {
        "colab": {
          "base_uri": "https://localhost:8080/",
          "height": 607
        },
        "id": "PFAw9T_OTV8G",
        "outputId": "652c0c97-5106-4e13-c7ff-a369e8d5c332"
      },
      "execution_count": null,
      "outputs": [
        {
          "output_type": "display_data",
          "data": {
            "text/plain": [
              "<Figure size 1200x600 with 2 Axes>"
            ],
            "image/png": "[encoded data removed]"
          },
          "metadata": {}
        }
      ]
    },
    {
      "cell_type": "markdown",
      "source": [
        "# *Random Forest*"
      ],
      "metadata": {
        "id": "1R4z2lxY6zJB"
      }
    },
    {
      "cell_type": "code",
      "source": [
        "#random forest\n",
        "rf = RandomForestClassifier(n_estimators=100,\n",
        "                            max_features=0.8,\n",
        "                            max_depth=5,\n",
        "                            criterion=\"gini\",\n",
        "                            min_samples_split=5,\n",
        "                            random_state=RANDOM_SEED)"
      ],
      "metadata": {
        "id": "LvBYWAS3t-qH"
      },
      "execution_count": null,
      "outputs": []
    },
    {
      "cell_type": "code",
      "source": [
        "rf.fit(X_train_resampled, y_train_resampled)\n",
        "\n",
        "y_pred_train_rf = rf.predict(X_train)\n",
        "y_proba_train_rf = rf.predict_proba(X_train)[:, 1]\n",
        "\n",
        "y_pred_test_rf = rf.predict(X_test)\n",
        "y_proba_test_rf = rf.predict_proba(X_test)[:, 1]"
      ],
      "metadata": {
        "id": "V-eFLxuquhh4"
      },
      "execution_count": null,
      "outputs": []
    },
    {
      "cell_type": "code",
      "source": [
        "cm_rf = confusion_matrix(y_test, y_pred_test_rf)\n",
        "print(cm_rf)\n",
        "print(f\"*\" * 60)\n",
        "report_rf_train = classification_report(y_train, y_pred_train_rf)\n",
        "print(report_rf_train)\n",
        "print(f\"*\" * 60)\n",
        "report_rf_test = classification_report(y_test, y_pred_test_rf)\n",
        "print(report_rf_test)\n",
        "print(f\"*\" * 60)\n",
        "print(\"Train ROC-AUC:\", roc_auc_score(y_train, y_proba_train_rf))\n",
        "print(\"Test ROC-AUC:\", roc_auc_score(y_test, y_proba_test_rf))"
      ],
      "metadata": {
        "colab": {
          "base_uri": "https://localhost:8080/"
        },
        "id": "vbyvYQ8pvm8c",
        "outputId": "8969c394-5c1f-4b4c-dced-cdfba92dbed6"
      },
      "execution_count": null,
      "outputs": [
        {
          "output_type": "stream",
          "name": "stdout",
          "text": [
            "[[12402  1176]\n",
            " [    0  1474]]\n",
            "************************************************************\n",
            "              precision    recall  f1-score   support\n",
            "\n",
            "           0       1.00      0.92      0.96     54308\n",
            "           1       0.56      1.00      0.72      5896\n",
            "\n",
            "    accuracy                           0.92     60204\n",
            "   macro avg       0.78      0.96      0.84     60204\n",
            "weighted avg       0.96      0.92      0.93     60204\n",
            "\n",
            "************************************************************\n",
            "              precision    recall  f1-score   support\n",
            "\n",
            "           0       1.00      0.91      0.95     13578\n",
            "           1       0.56      1.00      0.71      1474\n",
            "\n",
            "    accuracy                           0.92     15052\n",
            "   macro avg       0.78      0.96      0.83     15052\n",
            "weighted avg       0.96      0.92      0.93     15052\n",
            "\n",
            "************************************************************\n",
            "Train ROC-AUC: 0.9584726317024491\n",
            "Test ROC-AUC: 0.9562454669168119\n"
          ]
        }
      ]
    },
    {
      "cell_type": "markdown",
      "source": [
        "In the confusion matrix:\n",
        "* True Negatives are 12401\n",
        "* False Positives are 1177\n",
        "* False Negatives are 0\n",
        "* True Positives are 1474\n",
        "---\n",
        "**Precision:** 0.56 - **Recall:** 1.00 - **F1-score:** 0.71 - **Accuracy:** 0.92\n",
        "\n",
        "The random forest model was adapted to the train set sampled by smote because unbalanced dataset, tending towards class 0.\n",
        "\n",
        "ROC-AUC value is 0.95 on test set, the model performs well to distinguish two classes.\n"
      ],
      "metadata": {
        "id": "k95R4JIjsyEQ"
      }
    },
    {
      "cell_type": "code",
      "source": [
        "# ROC Curve for Train Set\n",
        "fpr_train_rf, tpr_train_rf, thresholds_train_rf = roc_curve(y_train, y_proba_train_rf)\n",
        "roc_auc_train_rf = auc(fpr_train_rf, tpr_train_rf)\n",
        "\n",
        "# ROC Curve for Test Set\n",
        "fpr_test_rf, tpr_test_rf, thresholds_test_rf = roc_curve(y_test, y_proba_test_rf)\n",
        "roc_auc_test_rf = auc(fpr_test_rf, tpr_test_rf)\n",
        "\n",
        "# Plotting\n",
        "plt.figure(figsize=(12, 6))\n",
        "\n",
        "# Plot for Train Set\n",
        "plt.subplot(1, 2, 1)\n",
        "plt.plot(fpr_train_rf, tpr_train_rf, color='darkorange', lw=2, label='ROC curve (area = %0.2f)' % roc_auc_train_rf)\n",
        "plt.plot([0, 1], [0, 1], color='navy', lw=2, linestyle='--')\n",
        "plt.xlim([0.0, 1.0])\n",
        "plt.ylim([0.0, 1.05])\n",
        "plt.xlabel('False Positive Rate')\n",
        "plt.ylabel('True Positive Rate')\n",
        "plt.title('ROC Curve - Train Set (Random Forest)')\n",
        "plt.legend(loc=\"lower right\")\n",
        "\n",
        "# Plot for Test Set\n",
        "plt.subplot(1, 2, 2)\n",
        "plt.plot(fpr_test_rf, tpr_test_rf, color='darkorange', lw=2, label='ROC curve (area = %0.2f)' % roc_auc_test_rf)\n",
        "plt.plot([0, 1], [0, 1], color='navy', lw=2, linestyle='--')\n",
        "plt.xlim([0.0, 1.0])\n",
        "plt.ylim([0.0, 1.05])\n",
        "plt.xlabel('False Positive Rate')\n",
        "plt.ylabel('True Positive Rate')\n",
        "plt.title('ROC Curve - Test Set (Random Forest)')\n",
        "plt.legend(loc=\"lower right\")\n",
        "\n",
        "plt.tight_layout()\n",
        "plt.show()"
      ],
      "metadata": {
        "colab": {
          "base_uri": "https://localhost:8080/",
          "height": 607
        },
        "id": "wXP66ZZPTY68",
        "outputId": "069843df-f0ac-4b02-d08d-a547f26ec0c2"
      },
      "execution_count": null,
      "outputs": [
        {
          "output_type": "display_data",
          "data": {
            "text/plain": [
              "<Figure size 1200x600 with 2 Axes>"
            ],
            "image/png": "[encoded data removed]"
          },
          "metadata": {}
        }
      ]
    },
    {
      "cell_type": "code",
      "source": [
        "#Bonus: features importance Random Forest model\n",
        "importances = rf.feature_importances_\n",
        "features = df.drop(columns=[\"TARGET\"]).columns\n",
        "sorted_importances = sorted(zip(features,importances), key = lambda x: x[1], reverse=True)\n",
        "\n",
        "print(\"Feature Importance:\")\n",
        "for feature, importance in sorted_importances:\n",
        "  print(f\"{feature}: {importance:.2f}\")"
      ],
      "metadata": {
        "colab": {
          "base_uri": "https://localhost:8080/"
        },
        "id": "yPEFGscmkJhg",
        "outputId": "93da5f41-dbaf-4dc6-a64f-909694079f2b"
      },
      "execution_count": null,
      "outputs": [
        {
          "output_type": "stream",
          "name": "stdout",
          "text": [
            "Feature Importance:\n",
            "AMT_INCOME_TOTAL: 0.41\n",
            "DAYS_BIRTH: 0.31\n",
            "DAYS_EMPLOYED: 0.26\n",
            "OCCUPATION_TYPE_Pensioner: 0.01\n",
            "CNT_CHILDREN: 0.00\n",
            "NAME_INCOME_TYPE_Pensioner: 0.00\n",
            "CNT_FAM_MEMBERS: 0.00\n",
            "FLAG_OWN_CAR: 0.00\n",
            "NAME_INCOME_TYPE_Working: 0.00\n",
            "CODE_GENDER: 0.00\n",
            "FLAG_WORK_PHONE: 0.00\n",
            "NAME_FAMILY_STATUS_Married: 0.00\n",
            "NAME_EDUCATION_TYPE_Secondary / secondary special: 0.00\n",
            "OCCUPATION_TYPE_High skill tech staff: 0.00\n",
            "NAME_FAMILY_STATUS_Separated: 0.00\n",
            "NAME_INCOME_TYPE_State servant: 0.00\n",
            "FLAG_PHONE: 0.00\n",
            "OCCUPATION_TYPE_Core staff: 0.00\n",
            "FLAG_OWN_REALTY: 0.00\n",
            "NAME_FAMILY_STATUS_Widow: 0.00\n",
            "NAME_EDUCATION_TYPE_Higher education: 0.00\n",
            "OCCUPATION_TYPE_Sales staff: 0.00\n",
            "OCCUPATION_TYPE_Managers: 0.00\n",
            "NAME_HOUSING_TYPE_House / apartment: 0.00\n",
            "OCCUPATION_TYPE_Laborers: 0.00\n",
            "OCCUPATION_TYPE_Unknown: 0.00\n",
            "NAME_HOUSING_TYPE_Office apartment: 0.00\n",
            "NAME_EDUCATION_TYPE_Incomplete higher: 0.00\n",
            "OCCUPATION_TYPE_Drivers: 0.00\n",
            "OCCUPATION_TYPE_Medicine staff: 0.00\n",
            "NAME_FAMILY_STATUS_Single / not married: 0.00\n",
            "FLAG_EMAIL: 0.00\n",
            "NAME_HOUSING_TYPE_Municipal apartment: 0.00\n",
            "NAME_HOUSING_TYPE_Rented apartment: 0.00\n",
            "OCCUPATION_TYPE_HR staff: 0.00\n",
            "OCCUPATION_TYPE_Private service staff: 0.00\n",
            "OCCUPATION_TYPE_Security staff: 0.00\n",
            "FLAG_MOBIL: 0.00\n",
            "NAME_INCOME_TYPE_Student: 0.00\n",
            "NAME_EDUCATION_TYPE_Lower secondary: 0.00\n",
            "NAME_HOUSING_TYPE_With parents: 0.00\n",
            "OCCUPATION_TYPE_Cleaning staff: 0.00\n",
            "OCCUPATION_TYPE_Cooking staff: 0.00\n",
            "OCCUPATION_TYPE_IT staff: 0.00\n",
            "OCCUPATION_TYPE_Low-skill Laborers: 0.00\n",
            "OCCUPATION_TYPE_Realty agents: 0.00\n",
            "OCCUPATION_TYPE_Secretaries: 0.00\n",
            "OCCUPATION_TYPE_Waiters/barmen staff: 0.00\n"
          ]
        }
      ]
    },
    {
      "cell_type": "markdown",
      "source": [
        "**AMT_INCOME_TOTAL (41%):**\n",
        "\n",
        "This variable, which represents the customer's total income, is the most important in determining creditworthiness.\n",
        "It implies that there is a strong correlation between income and the probability of paying regular instalments.\n",
        "\n",
        "**DAYS_BIRTH (32%):**\n",
        "\n",
        "The number of days since birth (age of the customer) is almost as important.\n",
        "It could mean that younger or older customers show different patterns of financial reliability.\n",
        "\n",
        "**DAYS_EMPLOYED (25%):**\n",
        "\n",
        "Days worked (or time since being unemployed) is also a crucial variable.\n",
        "It seems that job stability is a relevant factor in determining whether a customer is reliable or not.\n",
        "\n",
        "**NAME_INCOME_TYPE_Pensioner (1%):**\n",
        "\n",
        "This value is very low compared to the others, which indicates that being a pensioner does not have a large isolated impact on predictions.\n",
        "This does not mean that pensioners are not reliable, but rather that other variables (such as income or age) play a much more important role."
      ],
      "metadata": {
        "id": "uWwebWcrl8Dj"
      }
    },
    {
      "cell_type": "markdown",
      "source": [
        "# *Final Conclusions:*\n",
        "\n",
        "The variables to be taken into account for creditworthiness are mainly four:\n",
        "* Annual income\n",
        "* Age\n",
        "* Days of employment\n",
        "* Category (Pensioner, Working ect.)\n",
        "\n",
        "Also remember, in this case, that people with a higher education and Secondary/secondary special tend to have a higher creditworthiness.\n",
        "\n",
        "**Targeting these segments could make it clear whether or not to accept the application for a credit card.**\n",
        "\n",
        "If a customer’s credit card application is denied, a clear explanation must be provided. To have their request approved, the customer must fall into a category with a high likelihood of reliability.\n",
        "\n",
        "**Negative example:** A pensioner may be denied, as the data shows that 100% of pensioners are considered unreliable.\n",
        "\n",
        "**Positive example:** A customer with a strong/good annual income, a young age, long-term employment, and a high or secondary-special education level is more likely to have their application approved."
      ],
      "metadata": {
        "id": "5_WfVWu7mgCH"
      }
    }
  ]
}